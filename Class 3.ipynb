{
 "cells": [
  {
   "cell_type": "code",
   "execution_count": 2,
   "id": "61cc8f16",
   "metadata": {},
   "outputs": [],
   "source": [
    "def lower(character):\n",
    "    code = ord(character)\n",
    "    if code < 65:\n",
    "        raise Exception(\"Character out of bounds!\")\n",
    "    if code > 90:\n",
    "        raise Exception(\"Character out of bounds!\")\n",
    "    return chr(code+32)\n"
   ]
  },
  {
   "cell_type": "code",
   "execution_count": 3,
   "id": "24c63bfa",
   "metadata": {},
   "outputs": [
    {
     "name": "stdout",
     "output_type": "stream",
     "text": [
      "a\n",
      "b\n",
      "c\n",
      "d\n",
      "e\n",
      "f\n",
      "g\n"
     ]
    }
   ],
   "source": [
    "for character in \"ABCDEFG\":\n",
    "    print(lower(character))"
   ]
  },
  {
   "cell_type": "code",
   "execution_count": 4,
   "id": "09766a2c",
   "metadata": {},
   "outputs": [],
   "source": [
    "def upper(character):\n",
    "    code = ord(character)\n",
    "    if code < 97:\n",
    "        raise Exception(\"Character out of bounds!\")\n",
    "    if code > 122:\n",
    "        raise Exception(\"Character out of bounds!\")\n",
    "    return chr(code - 32)\n"
   ]
  },
  {
   "cell_type": "code",
   "execution_count": 5,
   "id": "b4c73d9d",
   "metadata": {},
   "outputs": [
    {
     "name": "stdout",
     "output_type": "stream",
     "text": [
      "A\n",
      "B\n",
      "C\n",
      "D\n",
      "E\n",
      "F\n",
      "G\n"
     ]
    }
   ],
   "source": [
    "for character in \"abcdefg\":\n",
    "    print(upper(character))"
   ]
  },
  {
   "cell_type": "code",
   "execution_count": 6,
   "id": "e70f4b1e",
   "metadata": {},
   "outputs": [],
   "source": [
    "def replace(the_string, the_target, the_replacement):\n",
    "    output = \"\"\n",
    "    for character in the_string:\n",
    "        if character == the_target:\n",
    "            output += the_replacement\n",
    "        else:\n",
    "            output += character\n",
    "    return output\n"
   ]
  },
  {
   "cell_type": "code",
   "execution_count": 7,
   "id": "31f15157",
   "metadata": {},
   "outputs": [
    {
     "data": {
      "text/plain": [
       "'IamLordVoldemort'"
      ]
     },
     "execution_count": 7,
     "metadata": {},
     "output_type": "execute_result"
    }
   ],
   "source": [
    "replace(\"I am Lord Voldemort\", \" \", \"\")"
   ]
  },
  {
   "cell_type": "code",
   "execution_count": 8,
   "id": "08e3ca2b",
   "metadata": {},
   "outputs": [],
   "source": [
    "def reverse(mystring):\n",
    "    output = \"\"\n",
    "    for character in range(len(mystring)-1, -1, -1):\n",
    "        output += mystring[character]\n",
    "    return output\n"
   ]
  },
  {
   "cell_type": "code",
   "execution_count": 9,
   "id": "ee42c048",
   "metadata": {},
   "outputs": [
    {
     "name": "stdout",
     "output_type": "stream",
     "text": [
      "ocat\n"
     ]
    }
   ],
   "source": [
    "print(reverse(\"taco\"))"
   ]
  },
  {
   "cell_type": "code",
   "execution_count": 10,
   "id": "c8b35e4c",
   "metadata": {},
   "outputs": [],
   "source": [
    "class Queue:\n",
    "    def __init__(self):\n",
    "        self.items = []\n",
    "\n",
    "    def enqueue(self, item):\n",
    "        self.items.insert(0, item)\n",
    "    \n",
    "    def dequeue(self):\n",
    "        return self.items.pop()\n",
    "\n",
    "    def size(self):\n",
    "        return len(self.items)\n",
    "\n",
    "    def is_empty(self):\n",
    "        return self.items == []"
   ]
  },
  {
   "cell_type": "code",
   "execution_count": 11,
   "id": "3fa2efd3",
   "metadata": {},
   "outputs": [
    {
     "name": "stdout",
     "output_type": "stream",
     "text": [
      "Thank you fot waiting a, station B is ready for you.\n",
      "Thank you fot waiting b, station F is ready for you.\n",
      "Thank you fot waiting c, station D is ready for you.\n",
      "Thank you fot waiting d, station A is ready for you.\n",
      "Thank you fot waiting e, station B is ready for you.\n",
      "Thank you fot waiting f, station E is ready for you.\n",
      "Thank you fot waiting g, station G is ready for you.\n",
      "Thank you fot waiting h, station B is ready for you.\n",
      "Thank you fot waiting i, station D is ready for you.\n",
      "Thank you fot waiting j, station A is ready for you.\n",
      "Thank you fot waiting k, station E is ready for you.\n",
      "Thank you fot waiting l, station D is ready for you.\n",
      "Thank you fot waiting m, station D is ready for you.\n",
      "Thank you fot waiting n, station D is ready for you.\n",
      "Thank you fot waiting o, station A is ready for you.\n",
      "Thank you fot waiting p, station E is ready for you.\n",
      "Thank you fot waiting q, station G is ready for you.\n",
      "Thank you fot waiting r, station C is ready for you.\n",
      "Thank you fot waiting s, station E is ready for you.\n",
      "Thank you fot waiting t, station C is ready for you.\n",
      "Thank you fot waiting u, station G is ready for you.\n",
      "Thank you fot waiting v, station F is ready for you.\n"
     ]
    },
    {
     "ename": "KeyboardInterrupt",
     "evalue": "",
     "output_type": "error",
     "traceback": [
      "\u001b[0;31m---------------------------------------------------------------------------\u001b[0m",
      "\u001b[0;31mKeyboardInterrupt\u001b[0m                         Traceback (most recent call last)",
      "\u001b[0;32m/var/folders/5w/6hlc5sj94k5ftm2pcks3ktbm0000gn/T/ipykernel_90036/1904236939.py\u001b[0m in \u001b[0;36m<module>\u001b[0;34m\u001b[0m\n\u001b[1;32m     22\u001b[0m \u001b[0;34m\u001b[0m\u001b[0m\n\u001b[1;32m     23\u001b[0m \u001b[0;34m\u001b[0m\u001b[0m\n\u001b[0;32m---> 24\u001b[0;31m \u001b[0mmain\u001b[0m\u001b[0;34m(\u001b[0m\u001b[0;34m)\u001b[0m\u001b[0;34m\u001b[0m\u001b[0;34m\u001b[0m\u001b[0m\n\u001b[0m",
      "\u001b[0;32m/var/folders/5w/6hlc5sj94k5ftm2pcks3ktbm0000gn/T/ipykernel_90036/1904236939.py\u001b[0m in \u001b[0;36mmain\u001b[0;34m()\u001b[0m\n\u001b[1;32m     19\u001b[0m     \u001b[0mvisitor_queue\u001b[0m \u001b[0;34m=\u001b[0m \u001b[0mQueue\u001b[0m\u001b[0;34m(\u001b[0m\u001b[0;34m)\u001b[0m\u001b[0;34m\u001b[0m\u001b[0;34m\u001b[0m\u001b[0m\n\u001b[1;32m     20\u001b[0m     \u001b[0mregister_visitors\u001b[0m\u001b[0;34m(\u001b[0m\u001b[0mvisitor_queue\u001b[0m\u001b[0;34m)\u001b[0m\u001b[0;34m\u001b[0m\u001b[0;34m\u001b[0m\u001b[0m\n\u001b[0;32m---> 21\u001b[0;31m     \u001b[0mservice_customers\u001b[0m\u001b[0;34m(\u001b[0m\u001b[0mvisitor_queue\u001b[0m\u001b[0;34m)\u001b[0m\u001b[0;34m\u001b[0m\u001b[0;34m\u001b[0m\u001b[0m\n\u001b[0m\u001b[1;32m     22\u001b[0m \u001b[0;34m\u001b[0m\u001b[0m\n\u001b[1;32m     23\u001b[0m \u001b[0;34m\u001b[0m\u001b[0m\n",
      "\u001b[0;32m/var/folders/5w/6hlc5sj94k5ftm2pcks3ktbm0000gn/T/ipykernel_90036/1904236939.py\u001b[0m in \u001b[0;36mservice_customers\u001b[0;34m(visitor_queue)\u001b[0m\n\u001b[1;32m     13\u001b[0m         print(\"Thank you fot waiting %s, station %s is ready for you.\"\n\u001b[1;32m     14\u001b[0m         % (visitor, choice(bank_tellers)))\n\u001b[0;32m---> 15\u001b[0;31m         \u001b[0msleep\u001b[0m\u001b[0;34m(\u001b[0m\u001b[0mrandint\u001b[0m\u001b[0;34m(\u001b[0m\u001b[0;36m1\u001b[0m\u001b[0;34m,\u001b[0m\u001b[0;36m2\u001b[0m\u001b[0;34m)\u001b[0m\u001b[0;34m)\u001b[0m\u001b[0;34m\u001b[0m\u001b[0;34m\u001b[0m\u001b[0m\n\u001b[0m\u001b[1;32m     16\u001b[0m     \u001b[0mprint\u001b[0m\u001b[0;34m(\u001b[0m\u001b[0;34m\"Empty visitor queue\"\u001b[0m\u001b[0;34m)\u001b[0m\u001b[0;34m\u001b[0m\u001b[0;34m\u001b[0m\u001b[0m\n\u001b[1;32m     17\u001b[0m \u001b[0;34m\u001b[0m\u001b[0m\n",
      "\u001b[0;31mKeyboardInterrupt\u001b[0m: "
     ]
    }
   ],
   "source": [
    "from string import ascii_lowercase\n",
    "from random import randint, choice\n",
    "from time import sleep\n",
    "\n",
    "def register_visitors(visitor_queue):\n",
    "    for char in ascii_lowercase:\n",
    "        visitor_queue.enqueue(char)\n",
    "\n",
    "def service_customers(visitor_queue):\n",
    "    bank_tellers = [\"A\", \"B\", \"C\", \"D\", \"E\", \"F\", \"G\"]\n",
    "    while not visitor_queue.is_empty():\n",
    "        visitor = visitor_queue.dequeue()\n",
    "        print(\"Thank you fot waiting %s, station %s is ready for you.\"\n",
    "        % (visitor, choice(bank_tellers)))\n",
    "        sleep(randint(1,2))\n",
    "    print(\"Empty visitor queue\")\n",
    "\n",
    "def main():\n",
    "    visitor_queue = Queue()\n",
    "    register_visitors(visitor_queue)\n",
    "    service_customers(visitor_queue)\n",
    "\n",
    "\n",
    "main()"
   ]
  },
  {
   "cell_type": "code",
   "execution_count": null,
   "id": "34dbb634",
   "metadata": {},
   "outputs": [],
   "source": []
  },
  {
   "cell_type": "code",
   "execution_count": null,
   "id": "94d90379",
   "metadata": {},
   "outputs": [],
   "source": []
  }
 ],
 "metadata": {
  "kernelspec": {
   "display_name": "Python 3 (ipykernel)",
   "language": "python",
   "name": "python3"
  },
  "language_info": {
   "codemirror_mode": {
    "name": "ipython",
    "version": 3
   },
   "file_extension": ".py",
   "mimetype": "text/x-python",
   "name": "python",
   "nbconvert_exporter": "python",
   "pygments_lexer": "ipython3",
   "version": "3.9.7"
  }
 },
 "nbformat": 4,
 "nbformat_minor": 5
}
