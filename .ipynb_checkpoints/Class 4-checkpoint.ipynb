{
 "cells": [
  {
   "cell_type": "code",
   "execution_count": 4,
   "id": "85cfa9ad",
   "metadata": {},
   "outputs": [],
   "source": [
    "class Stack:\n",
    "    def __init__(self):\n",
    "        self.items = []\n",
    "        \n",
    "    def push(self, item):\n",
    "        self.items.append(item)\n",
    "        \n",
    "    def pop(self):\n",
    "        return self.items.pop()\n",
    "    \n",
    "    def is_empty(self):\n",
    "        return self.items == []\n",
    "    \n",
    "    def size(self):\n",
    "        return len(self.items)"
   ]
  },
  {
   "cell_type": "code",
   "execution_count": 7,
   "id": "cf156f6e",
   "metadata": {},
   "outputs": [],
   "source": [
    "def balance_check(s):\n",
    "    if len(s)%2 != 0:\n",
    "        return False\n",
    "    opening = set(\"{[(\")\n",
    "    matches = set([(\"(\", \")\"), (\"[\", \"]\"), (\"{\", \"}\")])\n",
    "    stack = Stack()\n",
    "    for paren in s:\n",
    "        if paren in opening:\n",
    "            stack.push(paren)\n",
    "        else: \n",
    "            if stack.is_empty():\n",
    "                return False\n",
    "            last_open = stack.pop()\n",
    "            if (last_open, paren) not in matches:\n",
    "                return False\n",
    "    return stack.is_empty()"
   ]
  },
  {
   "cell_type": "code",
   "execution_count": 12,
   "id": "0ee9f9b7",
   "metadata": {},
   "outputs": [
    {
     "data": {
      "text/plain": [
       "True"
      ]
     },
     "execution_count": 12,
     "metadata": {},
     "output_type": "execute_result"
    }
   ],
   "source": [
    "balance_check(\"({[]})\")"
   ]
  },
  {
   "cell_type": "code",
   "execution_count": 13,
   "id": "32a1986c",
   "metadata": {},
   "outputs": [],
   "source": [
    "def fact(n):\n",
    "    if n == 0:\n",
    "        return 1\n",
    "    return n*fact(n-1)"
   ]
  },
  {
   "cell_type": "code",
   "execution_count": 19,
   "id": "24c68bbf",
   "metadata": {},
   "outputs": [
    {
     "data": {
      "text/plain": [
       "120"
      ]
     },
     "execution_count": 19,
     "metadata": {},
     "output_type": "execute_result"
    }
   ],
   "source": [
    "fact(5)"
   ]
  },
  {
   "cell_type": "code",
   "execution_count": 28,
   "id": "27aa6bab",
   "metadata": {},
   "outputs": [],
   "source": [
    "from functools import lru_cache # lru = least recently used\n",
    "\n",
    "# example: {8: 21, 7: 13, 6: 8}\n",
    "@lru_cache\n",
    "def fib(n):\n",
    "    if n < 2: # base case\n",
    "        return n\n",
    "    return fib(n-1) + fib(n-2)"
   ]
  },
  {
   "cell_type": "code",
   "execution_count": 29,
   "id": "0d65120c",
   "metadata": {},
   "outputs": [
    {
     "data": {
      "text/plain": [
       "21"
      ]
     },
     "execution_count": 29,
     "metadata": {},
     "output_type": "execute_result"
    }
   ],
   "source": [
    "fib(8)"
   ]
  },
  {
   "cell_type": "code",
   "execution_count": 25,
   "id": "55f1c03d",
   "metadata": {},
   "outputs": [
    {
     "data": {
      "text/plain": [
       "832040"
      ]
     },
     "execution_count": 25,
     "metadata": {},
     "output_type": "execute_result"
    }
   ],
   "source": [
    "fib(30)"
   ]
  },
  {
   "cell_type": "code",
   "execution_count": 33,
   "id": "f8fb227b",
   "metadata": {},
   "outputs": [
    {
     "data": {
      "text/plain": [
       "43466557686937456435688527675040625802564660517371780402481729089536555417949051890403879840079255169295922593080322634775209689623239873322471161642996440906533187938298969649928516003704476137795166849228875"
      ]
     },
     "execution_count": 33,
     "metadata": {},
     "output_type": "execute_result"
    }
   ],
   "source": [
    "fib(1000)"
   ]
  },
  {
   "cell_type": "code",
   "execution_count": 37,
   "id": "4cfdbbe8",
   "metadata": {},
   "outputs": [],
   "source": [
    "# We should be able to:\n",
    "# Add data anywhere in the list (beginning, anywhere in the middle or at the end of our list)\n",
    "# Remove data from anywhere in the list.\n",
    "# Search for, or access data (which may be anywhere in the list)."
   ]
  },
  {
   "cell_type": "code",
   "execution_count": 36,
   "id": "f9c5ab20",
   "metadata": {},
   "outputs": [],
   "source": [
    "class Node:\n",
    "    def __init__(self, data):\n",
    "        self.data = data          # a class attribute is just a variable that belongs to a class\n",
    "        self.next = None\n",
    "        "
   ]
  },
  {
   "cell_type": "code",
   "execution_count": 41,
   "id": "d2f0eb12",
   "metadata": {},
   "outputs": [],
   "source": [
    "class LinkedList:\n",
    "    def __init__(self):\n",
    "        self.head = None\n",
    "        \n",
    "    def get_node_by_value(self, value):    # a method is just a function that belongs to a class\n",
    "        current = self.head\n",
    "        while current:                     # this is shorthand for \"while current != None\"\n",
    "            if current.data == value:\n",
    "                return current\n",
    "            current = current.next\n",
    "        raise ValueError(\"Node not found.\")\n",
    "        \n",
    "    def prepend(self, data):\n",
    "        new_node = Node(data)\n",
    "        if self.head != None:              # this means, we already have data in our list (if true)\n",
    "            new_node.next = self.head\n",
    "        self.head = new_node\n",
    "        \n",
    "    def insert_after_value(self, data, value):  # insert the \"data\" after the \"value\" value\n",
    "        target_node = self.get_node_by_value(value)\n",
    "        new_node = Node(data)\n",
    "        target_node.next = new_node\n",
    "        \n",
    "    def insert_before_value(self, data, value):\n",
    "        current = self.head\n",
    "        while current:\n",
    "            if current.data == value:\n",
    "                self.prepend(data)\n",
    "            else:\n",
    "                while current.next:\n",
    "                    previous = current\n",
    "                    current = current.next\n",
    "                    if current.data == target:\n",
    "                        new_node = Node(data)\n",
    "                        new_node.next = current\n",
    "                        previous.next = new_node\n",
    "                        \n",
    "    def insert_after(self, data, index):\n",
    "        current = self.head\n",
    "        new_node = Node(data)\n",
    "        found = False\n",
    "        count = 0\n",
    "        while current and found == False:\n",
    "            if count == index:\n",
    "                found = True\n",
    "                current.next = new_node\n",
    "            else:\n",
    "                current = current.next\n",
    "                count += 1\n",
    "        if not found:\n",
    "            raise IndexError(\"list index out of range\")\n",
    "            \n",
    "    def append(self, data):\n",
    "        new_node = Node(data)\n",
    "        if not self.head:\n",
    "            self.head = new_node\n",
    "        else:\n",
    "            while current.next:\n",
    "                current = current.next\n",
    "            current.next = new_node\n",
    "            \n",
    "    def remove_by_value(self, value):\n",
    "        current = self.head\n",
    "        if current.data == value:\n",
    "            self.head = current.next\n",
    "        else:\n",
    "            found = False\n",
    "            while current and not found:\n",
    "                previous = current\n",
    "                current = current.next\n",
    "                if current.data == target:\n",
    "                    found = True\n",
    "                    previous.next = current.next\n",
    "                raise ValueError(\"Value not found in list\")\n",
    "                \n",
    "    def search(self, value):            # return True or False, depending on whether or not the value is in the list\n",
    "        pass\n",
    "        \n",
    "    def index(self, value):             # return the value of a node given an index\n",
    "        pass"
   ]
  },
  {
   "cell_type": "code",
   "execution_count": 42,
   "id": "b795140d",
   "metadata": {},
   "outputs": [],
   "source": [
    "class DNode:\n",
    "    def __init__(self, data):\n",
    "        self.data = data\n",
    "        self.next = None\n",
    "        self.prev = None"
   ]
  },
  {
   "cell_type": "code",
   "execution_count": null,
   "id": "63fcc095",
   "metadata": {},
   "outputs": [],
   "source": [
    "class DLL:\n",
    "    def __init__(self):\n",
    "        self.head = None\n",
    "        \n",
    "    def append(self, data):\n",
    "        new_node = DNode()\n",
    "        if not self.head:\n",
    "            self.head = new_node\n",
    "        else:\n",
    "            current = self.head\n",
    "            while current.next:\n",
    "                current = current.next    # once we exit this while loop, we will have reached the tail\n",
    "            current.next = new_node\n",
    "            new_node.prev = current"
   ]
  }
 ],
 "metadata": {
  "kernelspec": {
   "display_name": "Python 3 (ipykernel)",
   "language": "python",
   "name": "python3"
  },
  "language_info": {
   "codemirror_mode": {
    "name": "ipython",
    "version": 3
   },
   "file_extension": ".py",
   "mimetype": "text/x-python",
   "name": "python",
   "nbconvert_exporter": "python",
   "pygments_lexer": "ipython3",
   "version": "3.9.7"
  }
 },
 "nbformat": 4,
 "nbformat_minor": 5
}
