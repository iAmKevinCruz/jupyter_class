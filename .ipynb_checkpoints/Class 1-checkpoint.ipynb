{
 "cells": [
  {
   "cell_type": "code",
   "execution_count": 1,
   "id": "4a86c92b",
   "metadata": {},
   "outputs": [
    {
     "name": "stdout",
     "output_type": "stream",
     "text": [
      "H\n",
      "e\n",
      "l\n",
      "l\n",
      "o\n",
      ",\n",
      " \n",
      "W\n",
      "o\n",
      "r\n",
      "l\n",
      "d\n",
      "!\n"
     ]
    }
   ],
   "source": [
    "for letter in \"Hello, World!\":\n",
    "    print(letter)"
   ]
  },
  {
   "cell_type": "markdown",
   "id": "75218560",
   "metadata": {},
   "source": [
    "# Problem 1\n",
    "### Given two strings (string_a and string_b) let's check whether or not they are anagrams of each other given the following criteria:\n",
    "> Two strings are only anagrams of each other if all conditions below are met:\n",
    "> * They must be of exactly the same length.\n",
    "> * They must use exactly the same characters (no more, no less).\n",
    "> * Example: cars and scar, heart and earth, etc."
   ]
  },
  {
   "cell_type": "code",
   "execution_count": 21,
   "id": "2f200f91",
   "metadata": {},
   "outputs": [
    {
     "data": {
      "text/plain": [
       "False"
      ]
     },
     "execution_count": 21,
     "metadata": {},
     "output_type": "execute_result"
    }
   ],
   "source": [
    "# if string_a is same length as string_b:\n",
    "    # if not, reutrn False\n",
    "# put string_a and string_b into individual dictionaries\n",
    "    # count number of letters ex: string_a_dict = {\"c\": 1, \"b\": 2}, string_b_dict = {\"c\": 1, \"b\": 1}\n",
    "# if dictionaries match,\n",
    "    # return True\n",
    "# elseif:\n",
    "    # return False\n",
    "\n",
    "def is_anagram(string_a, string_b):\n",
    "    if len(string_a) is not len(string_b):\n",
    "        return False\n",
    "    string_a_dict = dict()\n",
    "    string_b_dict = dict()\n",
    "    for letter in string_a:\n",
    "        letter.push(string_a_dict)\n",
    "    return string_a_dict\n",
    "    \n",
    "\n",
    "\n",
    "is_anagram(\"cars\", \"scarr\")"
   ]
  },
  {
   "cell_type": "code",
   "execution_count": 42,
   "id": "2c002e19",
   "metadata": {},
   "outputs": [
    {
     "data": {
      "text/plain": [
       "({'c': 1, 's': 2, 'a': 1, 'r': 1}, {'s': 2, 'c': 1, 'a': 1, 'r': 1})"
      ]
     },
     "execution_count": 42,
     "metadata": {},
     "output_type": "execute_result"
    }
   ],
   "source": [
    "def is_anagram(string_a, string_b):\n",
    "    if len(string_a) is not len(string_b):\n",
    "        return False\n",
    "    char_times_a = dict()\n",
    "    char_times_b = dict()\n",
    "    for letter in string_a:\n",
    "        if letter in char_times_a:\n",
    "            char_times_a[letter] += 1\n",
    "        else:\n",
    "            char_times_a[letter] = 1\n",
    "            \n",
    "    for letter in string_b:\n",
    "        if letter in char_times_b:\n",
    "            char_times_b[letter] += 1\n",
    "        else:\n",
    "            char_times_b[letter] = 1\n",
    "            \n",
    "    string_a_list = list(char_times_a.keys())\n",
    "    string_b_list = list(char_times_b.keys())\n",
    "    \n",
    "    #for key in char_times_a.keys\n",
    "    \n",
    "    #return string_a_list, string_b_list\n",
    "    return char_times_a, char_times_b\n",
    "    \n",
    "\n",
    "\n",
    "is_anagram(\"csars\", \"scars\")"
   ]
  },
  {
   "cell_type": "code",
   "execution_count": 40,
   "id": "eafaff8d",
   "metadata": {},
   "outputs": [
    {
     "data": {
      "text/plain": [
       "'These words have same length and letters'"
      ]
     },
     "execution_count": 40,
     "metadata": {},
     "output_type": "execute_result"
    }
   ],
   "source": [
    "def is_anagram(string_a, string_b):\n",
    "    if len(string_a) is not len(string_b):\n",
    "        return False\n",
    "    char_times_a = dict()\n",
    "    char_times_b = dict()\n",
    "    for letter in string_a:\n",
    "        if letter in char_times_a:\n",
    "            char_times_a[letter] += 1\n",
    "        else:\n",
    "            char_times_a[letter] = 1\n",
    "            \n",
    "    for letter in string_b:\n",
    "        if letter in char_times_b:\n",
    "            char_times_b[letter] += 1\n",
    "        else:\n",
    "            char_times_b[letter] = 1\n",
    "            \n",
    "    if char_times_a == char_times_b:\n",
    "        return (\"These words have same length and letters\")\n",
    "    else:\n",
    "        return (\"These words have same length but different letters\")\n",
    "    \n",
    "\n",
    "\n",
    "is_anagram(\"cars\", \"scar\")"
   ]
  },
  {
   "cell_type": "code",
   "execution_count": 49,
   "id": "d9e7f535",
   "metadata": {},
   "outputs": [
    {
     "data": {
      "text/plain": [
       "True"
      ]
     },
     "execution_count": 49,
     "metadata": {},
     "output_type": "execute_result"
    }
   ],
   "source": [
    "# Professors Solution - he cleaned up the for loops a bit\n",
    "def is_anagram(string_a, string_b):\n",
    "    if len(string_a) is not len(string_b):\n",
    "        return False\n",
    "    char_times_a = dict()\n",
    "    char_times_b = dict()\n",
    "    \n",
    "    for i in range(len(string_a)):\n",
    "        if string_a[i] not in char_times_a.keys():\n",
    "            char_times_a[string_a[i]] = 1\n",
    "        else:\n",
    "            char_times_a[string_a[i]] += 1\n",
    "        if string_b[i] not in char_times_b.keys():\n",
    "            char_times_b[string_b[i]] = 1\n",
    "        else:\n",
    "            char_times_b[string_b[i]] += 1\n",
    "    \n",
    "    return char_times_a == char_times_b\n",
    "\n",
    "is_anagram(\"carss\", \"scars\")"
   ]
  },
  {
   "cell_type": "markdown",
   "id": "4a004fec",
   "metadata": {},
   "source": [
    "## Assignment For Class 1\n",
    "#### Compare 'Tom Morvolo Riddle' an 'I am lord Voldemort' to see if they're anagrams\n",
    "> Check these things\n",
    "> * Remove spaces from strings\n",
    "> * Make all letters lower case"
   ]
  },
  {
   "cell_type": "code",
   "execution_count": 67,
   "id": "78e4fd20",
   "metadata": {},
   "outputs": [],
   "source": [
    "def is_anagram(string_a, string_b):\n",
    "    new_string_a = string_a.replace(\" \", \"\").lower()\n",
    "    new_string_b = string_b.replace(\" \", \"\").lower()\n",
    "    if len(new_string_a) is not len(new_string_b):\n",
    "        return (\"The length is wrong\")\n",
    "    char_times_a = dict()\n",
    "    char_times_b = dict()\n",
    "    \n",
    "    for i in range(len(new_string_a)):\n",
    "        if new_string_a[i] not in char_times_a.keys():\n",
    "            char_times_a[new_string_a[i]] = 1\n",
    "        else:\n",
    "            char_times_a[new_string_a[i]] += 1\n",
    "        if new_string_b[i] not in char_times_b.keys():\n",
    "            char_times_b[new_string_b[i]] = 1\n",
    "        else:\n",
    "            char_times_b[new_string_b[i]] += 1\n",
    "    \n",
    "    return char_times_a == char_times_b\n",
    "    # return new_string_a, new_string_b"
   ]
  },
  {
   "cell_type": "code",
   "execution_count": 69,
   "id": "6868da33",
   "metadata": {},
   "outputs": [
    {
     "data": {
      "text/plain": [
       "True"
      ]
     },
     "execution_count": 69,
     "metadata": {},
     "output_type": "execute_result"
    }
   ],
   "source": [
    "is_anagram(\"tommarvoloriddle\", \"iamlordvoldemort\")"
   ]
  },
  {
   "cell_type": "code",
   "execution_count": 71,
   "id": "935a935b",
   "metadata": {},
   "outputs": [
    {
     "data": {
      "text/plain": [
       "True"
      ]
     },
     "execution_count": 71,
     "metadata": {},
     "output_type": "execute_result"
    }
   ],
   "source": [
    "is_anagram(\"Tom Marvolo Riddle\", \"I am lord Voldemort\")"
   ]
  },
  {
   "cell_type": "code",
   "execution_count": null,
   "id": "3c708437",
   "metadata": {},
   "outputs": [],
   "source": []
  }
 ],
 "metadata": {
  "kernelspec": {
   "display_name": "Python 3 (ipykernel)",
   "language": "python",
   "name": "python3"
  },
  "language_info": {
   "codemirror_mode": {
    "name": "ipython",
    "version": 3
   },
   "file_extension": ".py",
   "mimetype": "text/x-python",
   "name": "python",
   "nbconvert_exporter": "python",
   "pygments_lexer": "ipython3",
   "version": "3.9.7"
  }
 },
 "nbformat": 4,
 "nbformat_minor": 5
}
